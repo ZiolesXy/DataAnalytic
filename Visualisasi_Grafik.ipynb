{
  "nbformat": 4,
  "nbformat_minor": 0,
  "metadata": {
    "colab": {
      "provenance": [],
      "authorship_tag": "ABX9TyP/YQNxwtjBLw2K7GaZJBYr",
      "include_colab_link": true
    },
    "kernelspec": {
      "name": "python3",
      "display_name": "Python 3"
    },
    "language_info": {
      "name": "python"
    }
  },
  "cells": [
    {
      "cell_type": "markdown",
      "metadata": {
        "id": "view-in-github",
        "colab_type": "text"
      },
      "source": [
        "<a href=\"https://colab.research.google.com/github/ZiolesXy/DataAnalytic/blob/main/Visualisasi_Grafik.ipynb\" target=\"_parent\"><img src=\"https://colab.research.google.com/assets/colab-badge.svg\" alt=\"Open In Colab\"/></a>"
      ]
    },
    {
      "cell_type": "code",
      "execution_count": 1,
      "metadata": {
        "id": "y4efSwVYu1wE"
      },
      "outputs": [],
      "source": [
        "import pandas as pd"
      ]
    },
    {
      "cell_type": "code",
      "source": [
        "sd = pd.read_csv(\"student_data.csv\")"
      ],
      "metadata": {
        "id": "GazsdgLZ0DQn"
      },
      "execution_count": 2,
      "outputs": []
    },
    {
      "cell_type": "code",
      "source": [
        "sd[\"Maths_Score\"] = (sd[\"Maths_Test_Score\"]\n",
        "                   +sd[\"Maths_Quiz_Score\"]\n",
        "                   +sd[\"Maths_Assignment_Score\"])/3\n",
        "\n",
        "sd[\"Science_Score\"] = (sd[\"Science_Test_Score\"]\n",
        "                   +sd[\"Science_Quiz_Score\"]\n",
        "                   +sd[\"Science_Assignment_Score\"])/3\n",
        "\n",
        "sd[\"Literature_Score\"] = (sd[\"Literature_Test_Score\"]\n",
        "                   +sd[\"Literature_Quiz_Score\"]\n",
        "                   +sd[\"Literature_Assignment_Score\"])/3\n",
        "\n",
        "AVG = sd.groupby(['Group'])[['Maths_Score', 'Science_Score', 'Literature_Score']].mean().reset_index()"
      ],
      "metadata": {
        "id": "ar_avAaz1wBJ"
      },
      "execution_count": 12,
      "outputs": []
    },
    {
      "cell_type": "code",
      "source": [
        "AVG.plot.bar(x=\"Group\", y=[\"Maths_Score\", \"Science_Score\", \"Literature_Score\"])"
      ],
      "metadata": {
        "colab": {
          "base_uri": "https://localhost:8080/",
          "height": 462
        },
        "id": "x4pPZRzU4Nj9",
        "outputId": "d08f3bb7-3a09-4a5c-f870-3e7ddcaf205d"
      },
      "execution_count": 14,
      "outputs": [
        {
          "output_type": "execute_result",
          "data": {
            "text/plain": [
              "<Axes: xlabel='Group'>"
            ]
          },
          "metadata": {},
          "execution_count": 14
        },
        {
          "output_type": "display_data",
          "data": {
            "text/plain": [
              "<Figure size 640x480 with 1 Axes>"
            ],
            "image/png": "[encoded data removed]"
          },
          "metadata": {}
        }
      ]
    }
  ]
}