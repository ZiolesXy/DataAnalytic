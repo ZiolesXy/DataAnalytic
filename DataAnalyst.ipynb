{
  "nbformat": 4,
  "nbformat_minor": 0,
  "metadata": {
    "colab": {
      "provenance": [],
      "authorship_tag": "ABX9TyMO/aaX3Zau/BaUup1UXQSz",
      "include_colab_link": true
    },
    "kernelspec": {
      "name": "python3",
      "display_name": "Python 3"
    },
    "language_info": {
      "name": "python"
    }
  },
  "cells": [
    {
      "cell_type": "markdown",
      "metadata": {
        "id": "view-in-github",
        "colab_type": "text"
      },
      "source": [
        "<a href=\"https://colab.research.google.com/github/ZiolesXy/DataAnalytic/blob/main/DataAnalyst.ipynb\" target=\"_parent\"><img src=\"https://colab.research.google.com/assets/colab-badge.svg\" alt=\"Open In Colab\"/></a>"
      ]
    },
    {
      "cell_type": "code",
      "execution_count": null,
      "metadata": {
        "id": "HZZRYV7x7f8a"
      },
      "outputs": [],
      "source": [
        "#import pandas\n",
        "import pandas as pd\n",
        "\n",
        "#membuat dataframe dari directory\n",
        "data = {'nama': ['john', 'anna', 'peter', 'linda'],\n",
        "        'usia': [28, 35, 40,32],\n",
        "        'kota': ['New York', 'Paris', 'berlin', 'London']}\n",
        "\n",
        "#Memuat data ke dalam database\n",
        "df = pd.DataFrame(data)\n",
        "\n",
        "#menampilkan DataFrame\n",
        "df.head()"
      ]
    },
    {
      "cell_type": "code",
      "source": [
        "std = pd.read_csv(\"student_data.csv\")"
      ],
      "metadata": {
        "id": "5Bdk8oLnAqMk"
      },
      "execution_count": 9,
      "outputs": []
    },
    {
      "cell_type": "code",
      "source": [
        "std.head(3)"
      ],
      "metadata": {
        "id": "FzJmC6pXBJol"
      },
      "execution_count": null,
      "outputs": []
    },
    {
      "cell_type": "code",
      "source": [
        "std.size"
      ],
      "metadata": {
        "id": "KqYHQnOmBbwf"
      },
      "execution_count": null,
      "outputs": []
    },
    {
      "cell_type": "code",
      "source": [
        "std[\"Name\"]"
      ],
      "metadata": {
        "id": "cD5i2pMzGA4J",
        "outputId": "aca7886b-23c5-45cd-b50f-3108c4b1bb7b",
        "colab": {
          "base_uri": "https://localhost:8080/"
        }
      },
      "execution_count": 11,
      "outputs": [
        {
          "output_type": "execute_result",
          "data": {
            "text/plain": [
              "0          Alan Ferrell\n",
              "1        Lindsay Coffey\n",
              "2      Mitchell Bennett\n",
              "3           Dawn Porter\n",
              "4           Ashley Huff\n",
              "             ...       \n",
              "295       Shannon Hardy\n",
              "296    Christopher Ware\n",
              "297    Christina Thomas\n",
              "298        Mark Esparza\n",
              "299      William Foster\n",
              "Name: Name, Length: 300, dtype: object"
            ]
          },
          "metadata": {},
          "execution_count": 11
        }
      ]
    }
  ]
}