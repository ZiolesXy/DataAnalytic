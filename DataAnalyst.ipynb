{
  "nbformat": 4,
  "nbformat_minor": 0,
  "metadata": {
    "colab": {
      "provenance": [],
      "authorship_tag": "ABX9TyP4c4jL07AOEMPz73b8EHmb",
      "include_colab_link": true
    },
    "kernelspec": {
      "name": "python3",
      "display_name": "Python 3"
    },
    "language_info": {
      "name": "python"
    }
  },
  "cells": [
    {
      "cell_type": "markdown",
      "metadata": {
        "id": "view-in-github",
        "colab_type": "text"
      },
      "source": [
        "<a href=\"https://colab.research.google.com/github/ZiolesXy/DataAnalytic/blob/main/DataAnalyst.ipynb\" target=\"_parent\"><img src=\"https://colab.research.google.com/assets/colab-badge.svg\" alt=\"Open In Colab\"/></a>"
      ]
    },
    {
      "cell_type": "code",
      "execution_count": null,
      "metadata": {
        "id": "HZZRYV7x7f8a"
      },
      "outputs": [],
      "source": [
        "#import pandas\n",
        "import pandas as pd\n",
        "\n",
        "#membuat dataframe dari directory\n",
        "data = {'nama': ['john', 'anna', 'peter', 'linda'],\n",
        "        'usia': [28, 35, 40,32],\n",
        "        'kota': ['New York', 'Paris', 'berlin', 'London']}\n",
        "\n",
        "#Memuat data ke dalam database\n",
        "df = pd.DataFrame(data)\n",
        "\n",
        "#menampilkan DataFrame\n",
        "df.head()"
      ]
    },
    {
      "cell_type": "code",
      "source": [
        "import pandas as pd"
      ],
      "metadata": {
        "id": "u1DtmRiYGoPw"
      },
      "execution_count": null,
      "outputs": []
    },
    {
      "cell_type": "code",
      "source": [
        "std = pd.read_csv(\"student_data.csv\")"
      ],
      "metadata": {
        "id": "5Bdk8oLnAqMk"
      },
      "execution_count": null,
      "outputs": []
    },
    {
      "cell_type": "code",
      "source": [
        "std"
      ],
      "metadata": {
        "id": "vrLOAsWbWNip"
      },
      "execution_count": null,
      "outputs": []
    },
    {
      "cell_type": "code",
      "source": [
        "std.head(3)"
      ],
      "metadata": {
        "id": "FzJmC6pXBJol"
      },
      "execution_count": null,
      "outputs": []
    },
    {
      "cell_type": "code",
      "source": [
        "std.size"
      ],
      "metadata": {
        "id": "KqYHQnOmBbwf"
      },
      "execution_count": null,
      "outputs": []
    },
    {
      "cell_type": "code",
      "source": [
        "std[\"Name\"]"
      ],
      "metadata": {
        "id": "cD5i2pMzGA4J"
      },
      "execution_count": null,
      "outputs": []
    },
    {
      "cell_type": "code",
      "source": [
        "std.loc[3,[\"Name\", \"Group\", \"Height\"]]"
      ],
      "metadata": {
        "id": "zZvlsixBHMhE"
      },
      "execution_count": null,
      "outputs": []
    },
    {
      "cell_type": "code",
      "source": [
        "std[\n",
        "    (std[\"Group\"]==\"A\") & (std[\"Height\"]>160)\n",
        "    ]"
      ],
      "metadata": {
        "id": "rUpCGbdsH2ZL"
      },
      "execution_count": null,
      "outputs": []
    },
    {
      "cell_type": "code",
      "source": [
        "Nama = std.groupby(['Group'])['Name'].count().reset_index()\n",
        "Nama"
      ],
      "metadata": {
        "id": "Fe0P9I2nJ0-D"
      },
      "execution_count": null,
      "outputs": []
    },
    {
      "cell_type": "code",
      "source": [
        "TB = std.groupby(['Group'])['Weight'].sum().reset_index()\n",
        "TB"
      ],
      "metadata": {
        "id": "rY49vLfPKq3m"
      },
      "execution_count": null,
      "outputs": []
    },
    {
      "cell_type": "code",
      "source": [
        "AVGS = std.groupby(['Group'])['Maths_Quiz_Score'].mean().reset_index()\n",
        "AVGS"
      ],
      "metadata": {
        "id": "own3Qy_iLXU7"
      },
      "execution_count": null,
      "outputs": []
    },
    {
      "cell_type": "code",
      "source": [
        "NMAX = std.groupby(['Group'])['Weight'].max().reset_index()\n",
        "NMAX"
      ],
      "metadata": {
        "id": "Ugh-kvoWNV1a"
      },
      "execution_count": null,
      "outputs": []
    },
    {
      "cell_type": "code",
      "source": [
        "NMIN = std.groupby(['Group'])['Weight'].min().reset_index()\n",
        "NMIN"
      ],
      "metadata": {
        "id": "ZdSxIojiOY4a"
      },
      "execution_count": null,
      "outputs": []
    },
    {
      "cell_type": "code",
      "source": [
        "RataRataUjianSciente = std.groupby(['Group'])['Science_Assignment_Score'].mean().reset_index()\n",
        "RataRataUjianSciente"
      ],
      "metadata": {
        "id": "zZUExBrZPKDf"
      },
      "execution_count": null,
      "outputs": []
    },
    {
      "cell_type": "code",
      "source": [
        "RataRataUjianMtkB = std.groupby(['Group'])['Maths_Assignment_Score'].min().loc['B']\n",
        "RataRataUjianMtkB"
      ],
      "metadata": {
        "id": "PqgeIAnDQh36"
      },
      "execution_count": null,
      "outputs": []
    },
    {
      "cell_type": "code",
      "source": [
        "new_data = {'Name':['Aldi', 'Tika', 'Michael Jung', 'Ronald'],\n",
        "            'Group':['A', 'B', 'A', 'A'],\n",
        "            'Height':[147, 150, 148, 139],\n",
        "            'Weight':[47, 39, 42, 45]\n",
        "            }\n",
        "\n",
        "new_dataframe = pd.DataFrame(new_data)\n",
        "std = std._append(new_dataframe, ignore_index = True)"
      ],
      "metadata": {
        "id": "iPxk1TlWUnkR"
      },
      "execution_count": null,
      "outputs": []
    }
  ]
}